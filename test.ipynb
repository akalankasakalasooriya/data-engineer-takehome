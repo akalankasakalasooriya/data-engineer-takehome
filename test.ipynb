{
 "cells": [
  {
   "cell_type": "code",
   "execution_count": 3,
   "metadata": {},
   "outputs": [],
   "source": [
    "import cv2\n",
    "import os\n",
    "import numpy as np\n",
    "from PIL import Image\n",
    "from concurrent.futures import ThreadPoolExecutor\n",
    "from pathlib import Path"
   ]
  },
  {
   "cell_type": "code",
   "execution_count": 4,
   "metadata": {},
   "outputs": [],
   "source": [
    "# ref: https://raw.githubusercontent.com/kipr/opencv/master/data/haarcascades/haarcascade_frontalface_default.xml\n",
    "face_classifier = cv2.CascadeClassifier(\"Answer 1/face_classifier/facedetector.xml\")"
   ]
  },
  {
   "cell_type": "code",
   "execution_count": 10,
   "metadata": {},
   "outputs": [
    {
     "name": "stdout",
     "output_type": "stream",
     "text": [
      "Image  ./Answer 1/cropped_images/detection_1.png  saved.\n",
      "Image  ./Answer 1/cropped_images/detection_2.png  saved.\n",
      "Image  ./Answer 1/cropped_images/detection_3.png  saved.\n",
      "Image  ./Answer 1/cropped_images/detection_4.png  saved.\n",
      "Image  ./Answer 1/cropped_images/detection_5.png  saved.\n",
      "Image  ./Answer 1/cropped_images/detection_6.png  saved.\n",
      "Image  ./Answer 1/cropped_images/detection_7.png  saved.\n",
      "Image  ./Answer 1/cropped_images/detection_8.png  saved.\n",
      "Image  ./Answer 1/cropped_images/detection_9.png  saved.\n",
      "Image  ./Answer 1/cropped_images/detection_10.png  saved.\n",
      "Image  ./Answer 1/cropped_images/detection_11.png  saved.\n",
      "Image  ./Answer 1/cropped_images/detection_12.png  saved.\n",
      "Image  ./Answer 1/cropped_images/detection_13.png  saved.\n",
      "Image  ./Answer 1/cropped_images/detection_14.png  saved.\n",
      "Image  ./Answer 1/cropped_images/detection_15.png  saved.\n",
      "Image  ./Answer 1/cropped_images/detection_16.png  saved.\n",
      "Image  ./Answer 1/cropped_images/detection_17.png  saved.\n"
     ]
    }
   ],
   "source": [
    "image_path = \"Answer 1/images/faces.jpg\"\n",
    "image = cv2.imread(image_path)\n",
    "# convert image to grayscale\n",
    "gray_image = cv2.cvtColor(image, cv2.COLOR_BGR2GRAY)\n",
    "\n",
    "#face detection\n",
    "# scaleFactor=1.3, minNeighbors=5\n",
    "detection_result = face_classifier.detectMultiScale(gray_image)\n",
    "\n",
    "# Iterating and saving the face images\n",
    "count = 0\n",
    "for index, (x,y,w,h) in enumerate (detection_result):\n",
    "    count +=1\n",
    "    detected_image = np.array(image[y:y+h, x:x+w])\n",
    "    image_name = f\"./Answer 1/cropped_images/detection_{count}.png\"\n",
    "    cv2.imwrite(image_name, detected_image,)\n",
    "    print(\"Image \", image_name, \" saved.\")"
   ]
  },
  {
   "cell_type": "code",
   "execution_count": 5,
   "metadata": {},
   "outputs": [
    {
     "name": "stdout",
     "output_type": "stream",
     "text": [
      "Starting the task 1...\n",
      "Starting the task 2...\n",
      "Done with task 1\n",
      "Done with task 2\n",
      "It took 1.0030717359986738 second(s) to finish.\n"
     ]
    }
   ],
   "source": [
    "def task(id):\n",
    "    print(f'Starting the task {id}...')\n",
    "    sleep(1)\n",
    "    return f'Done with task {id}'\n",
    "\n",
    "start = perf_counter()\n",
    "\n",
    "with ThreadPoolExecutor() as executor:\n",
    "    f1 = executor.submit(task, 1)\n",
    "    f2 = executor.submit(task, 2)\n",
    "\n",
    "    print(f1.result())\n",
    "    print(f2.result())    \n",
    "\n",
    "finish = perf_counter()\n",
    "\n",
    "print(f\"It took {finish-start} second(s) to finish.\")"
   ]
  },
  {
   "cell_type": "code",
   "execution_count": null,
   "metadata": {},
   "outputs": [],
   "source": [
    "import boto3\n",
    "s3 = boto3.resource('s3')\n",
    "copy_source = {\n",
    "    'Bucket': 'staging',\n",
    "    'Key': '/AwsTesting/research/'\n",
    "}\n",
    "s3.meta.client.copy(copy_source, 'staging', '/AwsTesting/research_archive/')\n"
   ]
  }
 ],
 "metadata": {
  "kernelspec": {
   "display_name": "exp",
   "language": "python",
   "name": "python3"
  },
  "language_info": {
   "codemirror_mode": {
    "name": "ipython",
    "version": 3
   },
   "file_extension": ".py",
   "mimetype": "text/x-python",
   "name": "python",
   "nbconvert_exporter": "python",
   "pygments_lexer": "ipython3",
   "version": "3.8.16 (default, Jan 17 2023, 23:13:24) \n[GCC 11.2.0]"
  },
  "orig_nbformat": 4,
  "vscode": {
   "interpreter": {
    "hash": "97827858bd959f517115509fb5bc3a8c89e2fb5c6acb2eadc4bd8d0ca11151dc"
   }
  }
 },
 "nbformat": 4,
 "nbformat_minor": 2
}
